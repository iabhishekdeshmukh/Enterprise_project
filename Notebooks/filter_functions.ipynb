{
 "cells": [
  {
   "cell_type": "code",
   "execution_count": 3,
   "id": "58dc60b8",
   "metadata": {},
   "outputs": [],
   "source": [
    "def extract_pos_z(df1):\n",
    "    pos_z = df1['Lageistwert_Z'].to_numpy()\n",
    "    pos_z = pos_z.reshape(len(df1),)\n",
    "    pos_z = pos_z.astype(np.float)\n",
    "    \n",
    "    return pos_z"
   ]
  },
  {
   "cell_type": "code",
   "execution_count": 2,
   "id": "c2c2abd1",
   "metadata": {},
   "outputs": [],
   "source": [
    "def extract_cutting_intervals_level_1(pos_z):\n",
    "    import math\n",
    "    #start=[]\n",
    "    #end=[]\n",
    "    cutting_pos_z = []\n",
    "    cutting_sample = []\n",
    "    \n",
    "    plt.figure(figsize=(16,16))\n",
    "    x,y = sns.kdeplot(pos_z).get_lines()[0].get_data()\n",
    "    plt.close()\n",
    "    max1 = x[np.argmax(y)]\n",
    "    \n",
    "    lower_threshold = max1 - 0.2\n",
    "    higher_threshold = max1 + 0.2\n",
    "    \n",
    "    for i in range(len(pos_z)):\n",
    "        #whole_part = math.trunc(pos_z[i])\n",
    "        if pos_z[i]>= lower_threshold and pos_z[i]<= higher_threshold:\n",
    "            cutting_pos_z.append(pos_z[i])\n",
    "            cutting_sample.append(i)\n",
    "                \n",
    "    return cutting_pos_z, cutting_sample, max1            \n",
    "        "
   ]
  }
 ],
 "metadata": {
  "kernelspec": {
   "display_name": "Python 3",
   "language": "python",
   "name": "python3"
  },
  "language_info": {
   "codemirror_mode": {
    "name": "ipython",
    "version": 3
   },
   "file_extension": ".py",
   "mimetype": "text/x-python",
   "name": "python",
   "nbconvert_exporter": "python",
   "pygments_lexer": "ipython3",
   "version": "3.10.4"
  }
 },
 "nbformat": 4,
 "nbformat_minor": 5
}
