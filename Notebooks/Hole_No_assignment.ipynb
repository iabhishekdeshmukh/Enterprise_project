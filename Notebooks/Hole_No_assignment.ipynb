{
 "cells": [
  {
   "cell_type": "code",
   "execution_count": 1,
   "id": "91faff06",
   "metadata": {},
   "outputs": [],
   "source": [
    "import os\n",
    "\n",
    "if (os.path.basename(os.getcwd()) == 'Notebooks'):\n",
    "    os.chdir('..')"
   ]
  },
  {
   "cell_type": "code",
   "execution_count": 2,
   "id": "f2c748ae",
   "metadata": {},
   "outputs": [],
   "source": [
    "from preprocessing.preprocess import *\n",
    "import pandas as pd"
   ]
  },
  {
   "cell_type": "code",
   "execution_count": 3,
   "id": "3aab355a",
   "metadata": {},
   "outputs": [
    {
     "data": {
      "text/plain": [
       "'Enterprise_project'"
      ]
     },
     "execution_count": 3,
     "metadata": {},
     "output_type": "execute_result"
    }
   ],
   "source": [
    "os.path.basename(os.getcwd())"
   ]
  },
  {
   "cell_type": "code",
   "execution_count": 8,
   "id": "dbbacf84",
   "metadata": {},
   "outputs": [
    {
     "data": {
      "text/plain": [
       "2"
      ]
     },
     "execution_count": 8,
     "metadata": {},
     "output_type": "execute_result"
    }
   ],
   "source": [
    "path = 'D:/2_work/amina_data/singnals_wo_peak_filter'\n",
    "\n",
    "for process in ['SL', 'SR']:\n",
    "    for k in range(1,4):\n",
    "        df1 = pd.read_pickle(path+\"/{}_00{}.pkl\".format(process, k), compression='zip')\n",
    "        pos_z = extract_pos_z(df1)\n",
    "        start , end = cutting_samples(pos_z)\n",
    "        df1[\"holeNo\"] = -1\n",
    "        \n",
    "        for i in range(len(start)):  #assign new column with number of bore/hole\n",
    "            df1.iloc[start[i]:end[i], -1] = i+1\n",
    "        df1.to_pickle(path = \"{}_00{}.pkl\".format(process, k), compression = 'zip')"
   ]
  }
 ],
 "metadata": {
  "kernelspec": {
   "display_name": "Python 3",
   "language": "python",
   "name": "python3"
  },
  "language_info": {
   "codemirror_mode": {
    "name": "ipython",
    "version": 3
   },
   "file_extension": ".py",
   "mimetype": "text/x-python",
   "name": "python",
   "nbconvert_exporter": "python",
   "pygments_lexer": "ipython3",
   "version": "3.10.4"
  }
 },
 "nbformat": 4,
 "nbformat_minor": 5
}
