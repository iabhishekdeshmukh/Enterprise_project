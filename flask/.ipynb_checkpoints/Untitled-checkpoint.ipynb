{
 "cells": [
  {
   "cell_type": "code",
   "execution_count": 31,
   "id": "22db7c8f",
   "metadata": {},
   "outputs": [],
   "source": [
    "import os"
   ]
  },
  {
   "cell_type": "code",
   "execution_count": 60,
   "id": "57d73601",
   "metadata": {},
   "outputs": [],
   "source": [
    "import os\n",
    "with open( 'utils.py') as f :\n",
    "    lines = f.readlines()"
   ]
  },
  {
   "cell_type": "code",
   "execution_count": 62,
   "id": "0658a891",
   "metadata": {},
   "outputs": [
    {
     "data": {
      "text/plain": [
       "['import pandas as pd\\n',\n",
       " 'import numpy as np\\n',\n",
       " 'import matplotlib.pyplot as plt\\n',\n",
       " 'import seaborn as sns\\n',\n",
       " 'import time\\n',\n",
       " 'from scipy import stats\\n',\n",
       " 'from scipy.signal import find_peaks\\n',\n",
       " '\\n',\n",
       " '\\n',\n",
       " 'SR_lifetime = 316534444 \\n',\n",
       " 'SR_avg_process_time = 1232.63\\n',\n",
       " '\\n',\n",
       " 'SL_lifetime = 31650 \\n',\n",
       " 'SL_avg_process_time = 1222.44\\n',\n",
       " '\\n',\n",
       " '\\n',\n",
       " '# In[3]:\\n',\n",
       " '\\n',\n",
       " '\\n',\n",
       " 'def blank_df():\\n',\n",
       " '    df_blank = pd.read_csv(\"Book1.csv\",header = None, decimal = \\',\\', skiprows = range(0,8), delimiter = \\';\\', names = [\"time\", \"DrehmomentX\", \"DrehmomentY\", \"DrehmomentZ\",\"DrehmomentS1\",\\n',\n",
       " '                                        \"GeschwindigkeitX\", \"GeschwindigkeitY\", \"GeschwindigkeitZ\", \"GeschwindigkeitS1\", \\n',\n",
       " '                                        \"LageistwertX\", \"LageistwertY\", \"LageistwertZ\", \\n',\n",
       " '                                        \"Wirkleistung\", \"Trigger\", \"Trigger2\", \"ZÃ¤hlen\", \"BearbeitungsvorschubK1\",\\n',\n",
       " '                                        \"WerkzeugeinsatzK1\", \"ZÃ¤hlwert\", \"Nacharbeit\", \"Alarme Aus\", \"Lernen\", \"AchseK1\",\\n',\n",
       " '                                        \"Override-Wert\", \"Programmnummer\", \"Werkzeugnummer\", \"Werkzeug-Typ\", \"Bearbeitungsnummer\",\\n',\n",
       " '                                        \"Schneidennummer\", \"Quellkanal\", \"Programm\", \"Bearbeitung\", \"Werkzeug\", \"ID\", \"AchseK2\",\\n',\n",
       " '                                        \"AchseK3\", \"AchseK4\", \"AchseK5\", \"AchseK6\", \"AchseK7\", \"AchseK8\", \"AchseK9\", \"AchseK10\",\\n',\n",
       " '                                        \"AchseK11\", \"AchseK12\", \"Gef.DrehmomentS1\", \"Testwert0S1\", \"Gef.DrehmomentZ\", \"Testwert1Z\"] ,encoding = \"ISO-8859-1\")\\n',\n",
       " '\\n',\n",
       " '    df_blank = df_blank.iloc[:,[0,1,2,3,9,10,11]]\\n',\n",
       " '    return df_blank\\n',\n",
       " '\\n',\n",
       " 'def more_possible_processes(lifetime, runtime, avg_process_time):\\n',\n",
       " '    no_of_processes = np.floor((lifetime - runtime))\\n',\n",
       " '    return no_of_processes\\n',\n",
       " '\\n']"
      ]
     },
     "execution_count": 62,
     "metadata": {},
     "output_type": "execute_result"
    }
   ],
   "source": [
    "lines"
   ]
  },
  {
   "cell_type": "code",
   "execution_count": 51,
   "id": "840a54c2",
   "metadata": {},
   "outputs": [],
   "source": [
    "def modify(process_name, times_used_before, times_used_after):\n",
    "    with open( 'utils.py') as f :\n",
    "    lines = f.readlines()\n",
    "    \n",
    "    if process_name == \"SR\":\n",
    "        new_lifetime = (times_used_before + times_used_after) * SR_avg_process_time\n",
    "        avg_lifetime = (new_lifetime + SR_lifetime)/2\n",
    "        lines[9] = 'SR_lifetime = '+ avg_lifetime + '\\n'\n",
    "    elif process_name == \"SL\":\n",
    "        rocess_name == \"SL\":\n",
    "        new_lifetime = (times_used_before + times_used_after) * SL_avg_process_time\n",
    "        avg_lifetime = (new_lifetime + SL_lifetime)/2\n",
    "        lines[9] = 'SL_lifetime = '+ avg_lifetime + '\\n'"
   ]
  },
  {
   "cell_type": "code",
   "execution_count": null,
   "id": "a841cb7c",
   "metadata": {},
   "outputs": [],
   "source": [
    "lines = \"\".join(lines)\n",
    "with open( 'utils.py','w') as f :\n",
    "    f.write(lines)"
   ]
  },
  {
   "cell_type": "code",
   "execution_count": 52,
   "id": "040ad589",
   "metadata": {},
   "outputs": [
    {
     "data": {
      "text/plain": [
       "['import pandas as pd\\n',\n",
       " 'import numpy as np\\n',\n",
       " 'import matplotlib.pyplot as plt\\n',\n",
       " 'import seaborn as sns\\n',\n",
       " 'import time\\n',\n",
       " 'from scipy import stats\\n',\n",
       " 'from scipy.signal import find_peaks\\n',\n",
       " '\\n',\n",
       " '\\n',\n",
       " 'SR_lifetime = 316534444 \\n',\n",
       " 'SR_avg_process_time = 1232.63\\n',\n",
       " '\\n',\n",
       " 'SL_lifetime = 31650 \\n',\n",
       " 'SL_avg_process_time = 1222.44\\n',\n",
       " '\\n',\n",
       " '\\n',\n",
       " '# In[3]:\\n',\n",
       " '\\n',\n",
       " '\\n',\n",
       " 'def blank_df():\\n',\n",
       " '    df_blank = pd.read_csv(\"Book1.csv\",header = None, decimal = \\',\\', skiprows = range(0,8), delimiter = \\';\\', names = [\"time\", \"DrehmomentX\", \"DrehmomentY\", \"DrehmomentZ\",\"DrehmomentS1\",\\n',\n",
       " '                                        \"GeschwindigkeitX\", \"GeschwindigkeitY\", \"GeschwindigkeitZ\", \"GeschwindigkeitS1\", \\n',\n",
       " '                                        \"LageistwertX\", \"LageistwertY\", \"LageistwertZ\", \\n',\n",
       " '                                        \"Wirkleistung\", \"Trigger\", \"Trigger2\", \"ZÃ¤hlen\", \"BearbeitungsvorschubK1\",\\n',\n",
       " '                                        \"WerkzeugeinsatzK1\", \"ZÃ¤hlwert\", \"Nacharbeit\", \"Alarme Aus\", \"Lernen\", \"AchseK1\",\\n',\n",
       " '                                        \"Override-Wert\", \"Programmnummer\", \"Werkzeugnummer\", \"Werkzeug-Typ\", \"Bearbeitungsnummer\",\\n',\n",
       " '                                        \"Schneidennummer\", \"Quellkanal\", \"Programm\", \"Bearbeitung\", \"Werkzeug\", \"ID\", \"AchseK2\",\\n',\n",
       " '                                        \"AchseK3\", \"AchseK4\", \"AchseK5\", \"AchseK6\", \"AchseK7\", \"AchseK8\", \"AchseK9\", \"AchseK10\",\\n',\n",
       " '                                        \"AchseK11\", \"AchseK12\", \"Gef.DrehmomentS1\", \"Testwert0S1\", \"Gef.DrehmomentZ\", \"Testwert1Z\"] ,encoding = \"ISO-8859-1\")\\n',\n",
       " '\\n',\n",
       " '    df_blank = df_blank.iloc[:,[0,1,2,3,9,10,11]]\\n',\n",
       " '    return df_blank\\n',\n",
       " '\\n',\n",
       " 'def more_possible_processes(lifetime, runtime, avg_process_time):\\n',\n",
       " '    no_of_processes = np.floor((lifetime - runtime))\\n',\n",
       " '    return no_of_processes\\n',\n",
       " '\\n']"
      ]
     },
     "execution_count": 52,
     "metadata": {},
     "output_type": "execute_result"
    }
   ],
   "source": [
    "lines"
   ]
  },
  {
   "cell_type": "code",
   "execution_count": 53,
   "id": "f129d64c",
   "metadata": {},
   "outputs": [],
   "source": []
  },
  {
   "cell_type": "code",
   "execution_count": 54,
   "id": "aa0f0a5e",
   "metadata": {},
   "outputs": [],
   "source": [
    "lines = \"\".join(lines)\n",
    "with open( 'utils.py','w') as f :\n",
    "    f.write(lines)"
   ]
  }
 ],
 "metadata": {
  "kernelspec": {
   "display_name": "Python 3 (ipykernel)",
   "language": "python",
   "name": "python3"
  },
  "language_info": {
   "codemirror_mode": {
    "name": "ipython",
    "version": 3
   },
   "file_extension": ".py",
   "mimetype": "text/x-python",
   "name": "python",
   "nbconvert_exporter": "python",
   "pygments_lexer": "ipython3",
   "version": "3.10.4"
  }
 },
 "nbformat": 4,
 "nbformat_minor": 5
}
